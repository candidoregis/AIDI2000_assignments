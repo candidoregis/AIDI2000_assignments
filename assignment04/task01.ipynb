{
 "cells": [
  {
   "cell_type": "code",
   "execution_count": 1,
   "id": "0c04cee8",
   "metadata": {},
   "outputs": [],
   "source": [
    "#### ASSIGNMENT: 04\n",
    "#### Task 01"
   ]
  },
  {
   "cell_type": "code",
   "execution_count": 2,
   "id": "b627b8f2",
   "metadata": {},
   "outputs": [],
   "source": [
    "# Import necessary libraries\n",
    "import os\n",
    "import numpy as np\n",
    "import matplotlib.pyplot as plt\n",
    "import shutil\n",
    "import tensorflow as tf\n",
    "from sklearn.metrics import confusion_matrix, classification_report\n",
    "from tensorflow.keras.preprocessing.image import ImageDataGenerator\n",
    "from tensorflow.keras.applications import MobileNetV2\n",
    "from tensorflow.keras.models import Model\n",
    "from tensorflow.keras.layers import Dense, GlobalAveragePooling2D, Dropout\n",
    "from tensorflow.keras.optimizers import Adam"
   ]
  },
  {
   "cell_type": "code",
   "execution_count": 4,
   "id": "4a524ef1",
   "metadata": {},
   "outputs": [],
   "source": [
    "# Define paths\n",
    "BASE_DIR = os.getcwd()\n",
    "DATASET_DIR = os.path.join(BASE_DIR, 'dataset', 'NEU Metal Surface Defects Data')\n",
    "TRAIN_DIR = os.path.join(DATASET_DIR, 'train')\n",
    "VALID_DIR = os.path.join(DATASET_DIR, 'valid')\n",
    "TEST_DIR = os.path.join(DATASET_DIR, 'test')"
   ]
  },
  {
   "cell_type": "code",
   "execution_count": 6,
   "id": "4ebc688b",
   "metadata": {},
   "outputs": [],
   "source": [
    "# Create binary classification structure (defective vs non-defective)\n",
    "BINARY_DIR = os.path.join(BASE_DIR, 'binary_dataset')\n",
    "BINARY_TRAIN = os.path.join(BINARY_DIR, 'train')\n",
    "BINARY_VALID = os.path.join(BINARY_DIR, 'valid')\n",
    "BINARY_TEST = os.path.join(BINARY_DIR, 'test')"
   ]
  },
  {
   "cell_type": "code",
   "execution_count": 7,
   "id": "38e15096",
   "metadata": {},
   "outputs": [],
   "source": [
    "# Create directories for binary classification\n",
    "def create_binary_dataset(src_dir, dest_dir):\n",
    "    # Remove existing directory if it exists\n",
    "    if os.path.exists(dest_dir):\n",
    "        shutil.rmtree(dest_dir)\n",
    "    \n",
    "    # Create defective and non-defective directories\n",
    "    os.makedirs(os.path.join(dest_dir, 'defective'), exist_ok=True)\n",
    "    os.makedirs(os.path.join(dest_dir, 'non_defective'), exist_ok=True)\n",
    "    \n",
    "    # All defect types are considered defective\n",
    "    defect_types = os.listdir(src_dir)\n",
    "    \n",
    "    # Since we need at least one sample in each class for binary classification,\n",
    "    # we'll create a dummy non-defective sample by copying one defective image\n",
    "    # This is just for demonstration purposes\n",
    "    dummy_created = False\n",
    "    \n",
    "    for defect_type in defect_types:\n",
    "        src_defect_dir = os.path.join(src_dir, defect_type)\n",
    "        if not os.path.isdir(src_defect_dir):\n",
    "            continue\n",
    "            \n",
    "        # All types are defective\n",
    "        dest_category = 'defective'\n",
    "        \n",
    "        dest_category_dir = os.path.join(dest_dir, dest_category)\n",
    "        \n",
    "        # Copy files\n",
    "        for img_file in os.listdir(src_defect_dir):\n",
    "            if img_file.lower().endswith(('.png', '.jpg', '.jpeg', '.bmp')):\n",
    "                src_file = os.path.join(src_defect_dir, img_file)\n",
    "                # Create a unique filename to avoid overwriting\n",
    "                dest_file = os.path.join(dest_category_dir, f\"{defect_type}_{img_file}\")\n",
    "                shutil.copy2(src_file, dest_file)\n",
    "                \n",
    "                # Create a dummy non-defective sample (just for demonstration)\n",
    "                if not dummy_created:\n",
    "                    dummy_file = os.path.join(dest_dir, 'non_defective', f\"dummy_{img_file}\")\n",
    "                    shutil.copy2(src_file, dummy_file)\n",
    "                    dummy_created = True"
   ]
  },
  {
   "cell_type": "code",
   "execution_count": 8,
   "id": "58affeeb",
   "metadata": {},
   "outputs": [
    {
     "name": "stdout",
     "output_type": "stream",
     "text": [
      "Creating binary classification dataset...\n",
      "Binary dataset created.\n"
     ]
    }
   ],
   "source": [
    "# Create binary datasets\n",
    "print(\"Creating binary classification dataset...\")\n",
    "create_binary_dataset(TRAIN_DIR, BINARY_TRAIN)\n",
    "create_binary_dataset(VALID_DIR, BINARY_VALID)\n",
    "create_binary_dataset(TEST_DIR, BINARY_TEST)\n",
    "print(\"Binary dataset created.\")"
   ]
  },
  {
   "cell_type": "code",
   "execution_count": 9,
   "id": "d1523aea",
   "metadata": {},
   "outputs": [],
   "source": [
    "# Parameters\n",
    "IMG_SIZE = 224  # MobileNetV2 default input size\n",
    "BATCH_SIZE = 32\n",
    "EPOCHS = 10"
   ]
  },
  {
   "cell_type": "code",
   "execution_count": 10,
   "id": "fdea8ac6",
   "metadata": {},
   "outputs": [],
   "source": [
    "# Data preprocessing and augmentation\n",
    "train_datagen = ImageDataGenerator(\n",
    "    rescale=1./255,\n",
    "    rotation_range=20,\n",
    "    width_shift_range=0.2,\n",
    "    height_shift_range=0.2,\n",
    "    shear_range=0.2,\n",
    "    zoom_range=0.2,\n",
    "    horizontal_flip=True,\n",
    "    fill_mode='nearest'\n",
    ")\n",
    "valid_test_datagen = ImageDataGenerator(rescale=1./255)"
   ]
  },
  {
   "cell_type": "code",
   "execution_count": 11,
   "id": "dd4c491c",
   "metadata": {},
   "outputs": [
    {
     "name": "stdout",
     "output_type": "stream",
     "text": [
      "Found 1657 images belonging to 2 classes.\n",
      "Found 73 images belonging to 2 classes.\n",
      "Found 73 images belonging to 2 classes.\n"
     ]
    }
   ],
   "source": [
    "# Create data generators for binary classification\n",
    "train_generator = train_datagen.flow_from_directory(\n",
    "    BINARY_TRAIN,\n",
    "    target_size=(IMG_SIZE, IMG_SIZE),\n",
    "    batch_size=BATCH_SIZE,\n",
    "    class_mode='binary',\n",
    "    shuffle=True\n",
    ")\n",
    "\n",
    "validation_generator = valid_test_datagen.flow_from_directory(\n",
    "    BINARY_VALID,\n",
    "    target_size=(IMG_SIZE, IMG_SIZE),\n",
    "    batch_size=BATCH_SIZE,\n",
    "    class_mode='binary',\n",
    "    shuffle=False\n",
    ")\n",
    "\n",
    "test_generator = valid_test_datagen.flow_from_directory(\n",
    "    BINARY_TEST,\n",
    "    target_size=(IMG_SIZE, IMG_SIZE),\n",
    "    batch_size=BATCH_SIZE,\n",
    "    class_mode='binary',\n",
    "    shuffle=False\n",
    ")"
   ]
  },
  {
   "cell_type": "code",
   "execution_count": 12,
   "id": "72fa5660",
   "metadata": {},
   "outputs": [
    {
     "name": "stdout",
     "output_type": "stream",
     "text": [
      "Class indices: {'defective': 0, 'non_defective': 1}\n"
     ]
    }
   ],
   "source": [
    "# Print class indices to understand the mapping\n",
    "print(\"Class indices:\", train_generator.class_indices)"
   ]
  },
  {
   "cell_type": "code",
   "execution_count": null,
   "id": "4d7df2b7",
   "metadata": {},
   "outputs": [],
   "source": [
    "# Load MobileNetV2 with pre-trained weights\n",
    "base_model = MobileNetV2(weights='imagenet', include_top=False, input_shape=(IMG_SIZE, IMG_SIZE, 3))"
   ]
  },
  {
   "cell_type": "code",
   "execution_count": 14,
   "id": "c9de9247",
   "metadata": {},
   "outputs": [],
   "source": [
    "# Freeze all base layers\n",
    "for layer in base_model.layers:\n",
    "    layer.trainable = False"
   ]
  },
  {
   "cell_type": "code",
   "execution_count": 15,
   "id": "9716f0c8",
   "metadata": {},
   "outputs": [],
   "source": [
    "# Add custom classification head\n",
    "x = base_model.output\n",
    "x = GlobalAveragePooling2D()(x)\n",
    "x = Dense(128, activation='relu')(x)\n",
    "x = Dropout(0.5)(x)\n",
    "predictions = Dense(1, activation='sigmoid')(x)  # Binary classification"
   ]
  },
  {
   "cell_type": "code",
   "execution_count": 16,
   "id": "dbcd35d3",
   "metadata": {},
   "outputs": [],
   "source": [
    "# Create the final model\n",
    "model = Model(inputs=base_model.input, outputs=predictions)"
   ]
  },
  {
   "cell_type": "code",
   "execution_count": 17,
   "id": "672370c0",
   "metadata": {},
   "outputs": [],
   "source": [
    "# Compile the model\n",
    "model.compile(\n",
    "    optimizer=Adam(learning_rate=0.0001),\n",
    "    loss='binary_crossentropy',\n",
    "    metrics=['accuracy']\n",
    ")"
   ]
  },
  {
   "cell_type": "code",
   "execution_count": 18,
   "id": "b0ef4a6a",
   "metadata": {},
   "outputs": [
    {
     "name": "stderr",
     "output_type": "stream",
     "text": [
      "/opt/anaconda3/lib/python3.12/site-packages/keras/src/trainers/data_adapters/py_dataset_adapter.py:121: UserWarning: Your `PyDataset` class should call `super().__init__(**kwargs)` in its constructor. `**kwargs` can include `workers`, `use_multiprocessing`, `max_queue_size`. Do not pass these arguments to `fit()`, as they will be ignored.\n",
      "  self._warn_if_super_not_called()\n"
     ]
    },
    {
     "name": "stdout",
     "output_type": "stream",
     "text": [
      "Epoch 1/10\n",
      "\u001b[1m51/51\u001b[0m \u001b[32m━━━━━━━━━━━━━━━━━━━━\u001b[0m\u001b[37m\u001b[0m \u001b[1m13s\u001b[0m 217ms/step - accuracy: 0.9024 - loss: 0.2282 - val_accuracy: 1.0000 - val_loss: 0.0028\n",
      "Epoch 2/10\n",
      "\u001b[1m 1/51\u001b[0m \u001b[37m━━━━━━━━━━━━━━━━━━━━\u001b[0m \u001b[1m8s\u001b[0m 166ms/step - accuracy: 1.0000 - loss: 0.0065"
     ]
    },
    {
     "name": "stderr",
     "output_type": "stream",
     "text": [
      "/opt/anaconda3/lib/python3.12/site-packages/keras/src/trainers/epoch_iterator.py:107: UserWarning: Your input ran out of data; interrupting training. Make sure that your dataset or generator can generate at least `steps_per_epoch * epochs` batches. You may need to use the `.repeat()` function when building your dataset.\n",
      "  self._interrupted_warning()\n"
     ]
    },
    {
     "name": "stdout",
     "output_type": "stream",
     "text": [
      "\u001b[1m51/51\u001b[0m \u001b[32m━━━━━━━━━━━━━━━━━━━━\u001b[0m\u001b[37m\u001b[0m \u001b[1m1s\u001b[0m 7ms/step - accuracy: 1.0000 - loss: 0.0065 - val_accuracy: 1.0000 - val_loss: 0.0028\n",
      "Epoch 3/10\n",
      "\u001b[1m51/51\u001b[0m \u001b[32m━━━━━━━━━━━━━━━━━━━━\u001b[0m\u001b[37m\u001b[0m \u001b[1m11s\u001b[0m 207ms/step - accuracy: 0.9998 - loss: 0.0054 - val_accuracy: 1.0000 - val_loss: 0.0016\n",
      "Epoch 4/10\n",
      "\u001b[1m51/51\u001b[0m \u001b[32m━━━━━━━━━━━━━━━━━━━━\u001b[0m\u001b[37m\u001b[0m \u001b[1m1s\u001b[0m 7ms/step - accuracy: 1.0000 - loss: 0.0021 - val_accuracy: 1.0000 - val_loss: 0.0016\n",
      "Epoch 5/10\n",
      "\u001b[1m51/51\u001b[0m \u001b[32m━━━━━━━━━━━━━━━━━━━━\u001b[0m\u001b[37m\u001b[0m \u001b[1m11s\u001b[0m 207ms/step - accuracy: 0.9982 - loss: 0.0113 - val_accuracy: 1.0000 - val_loss: 0.0010\n",
      "Epoch 6/10\n",
      "\u001b[1m51/51\u001b[0m \u001b[32m━━━━━━━━━━━━━━━━━━━━\u001b[0m\u001b[37m\u001b[0m \u001b[1m1s\u001b[0m 7ms/step - accuracy: 1.0000 - loss: 0.0021 - val_accuracy: 1.0000 - val_loss: 9.9329e-04\n",
      "Epoch 7/10\n",
      "\u001b[1m51/51\u001b[0m \u001b[32m━━━━━━━━━━━━━━━━━━━━\u001b[0m\u001b[37m\u001b[0m \u001b[1m11s\u001b[0m 206ms/step - accuracy: 0.9985 - loss: 0.0095 - val_accuracy: 1.0000 - val_loss: 7.0983e-04\n",
      "Epoch 8/10\n",
      "\u001b[1m51/51\u001b[0m \u001b[32m━━━━━━━━━━━━━━━━━━━━\u001b[0m\u001b[37m\u001b[0m \u001b[1m1s\u001b[0m 7ms/step - accuracy: 1.0000 - loss: 7.1456e-04 - val_accuracy: 1.0000 - val_loss: 7.0336e-04\n",
      "Epoch 9/10\n",
      "\u001b[1m51/51\u001b[0m \u001b[32m━━━━━━━━━━━━━━━━━━━━\u001b[0m\u001b[37m\u001b[0m \u001b[1m11s\u001b[0m 205ms/step - accuracy: 0.9998 - loss: 0.0027 - val_accuracy: 1.0000 - val_loss: 5.6780e-04\n",
      "Epoch 10/10\n",
      "\u001b[1m51/51\u001b[0m \u001b[32m━━━━━━━━━━━━━━━━━━━━\u001b[0m\u001b[37m\u001b[0m \u001b[1m1s\u001b[0m 7ms/step - accuracy: 1.0000 - loss: 8.4144e-04 - val_accuracy: 1.0000 - val_loss: 5.6796e-04\n"
     ]
    }
   ],
   "source": [
    "# Train the model\n",
    "history = model.fit(\n",
    "    train_generator,\n",
    "    steps_per_epoch=train_generator.samples // BATCH_SIZE,\n",
    "    epochs=EPOCHS,\n",
    "    validation_data=validation_generator,\n",
    "    validation_steps=validation_generator.samples // BATCH_SIZE\n",
    ")"
   ]
  },
  {
   "cell_type": "code",
   "execution_count": 19,
   "id": "0dfbabbd",
   "metadata": {},
   "outputs": [
    {
     "name": "stdout",
     "output_type": "stream",
     "text": [
      "\u001b[1m3/3\u001b[0m \u001b[32m━━━━━━━━━━━━━━━━━━━━\u001b[0m\u001b[37m\u001b[0m \u001b[1m1s\u001b[0m 134ms/step - accuracy: 0.9932 - loss: 0.0485  \n",
      "Test accuracy: 0.9863\n",
      "Test loss: 0.0963\n"
     ]
    }
   ],
   "source": [
    "# Evaluate the model on test data\n",
    "test_loss, test_accuracy = model.evaluate(test_generator)\n",
    "print(f\"Test accuracy: {test_accuracy:.4f}\")\n",
    "print(f\"Test loss: {test_loss:.4f}\")"
   ]
  },
  {
   "cell_type": "code",
   "execution_count": 20,
   "id": "8f058460",
   "metadata": {},
   "outputs": [
    {
     "data": {
      "image/png": "[encoded data removed]",
      "text/plain": [
       "<Figure size 1000x600 with 2 Axes>"
      ]
     },
     "metadata": {},
     "output_type": "display_data"
    }
   ],
   "source": [
    "# Plot training & validation accuracy and loss\n",
    "plt.figure(figsize=(10, 6))\n",
    "\n",
    "# Plot accuracy\n",
    "plt.subplot(1, 2, 1)\n",
    "plt.plot(history.history['accuracy'], label='Training Accuracy')\n",
    "plt.plot(history.history['val_accuracy'], label='Validation Accuracy')\n",
    "plt.title('Model Accuracy')\n",
    "plt.xlabel('Epoch')\n",
    "plt.ylabel('Accuracy')\n",
    "plt.legend()\n",
    "\n",
    "# Plot loss\n",
    "plt.subplot(1, 2, 2)\n",
    "plt.plot(history.history['loss'], label='Training Loss')\n",
    "plt.plot(history.history['val_loss'], label='Validation Loss')\n",
    "plt.title('Model Loss')\n",
    "plt.xlabel('Epoch')\n",
    "plt.ylabel('Loss')\n",
    "plt.legend()\n",
    "\n",
    "plt.tight_layout()\n",
    "plt.show()"
   ]
  },
  {
   "cell_type": "code",
   "execution_count": 21,
   "id": "d9672c3d",
   "metadata": {},
   "outputs": [
    {
     "name": "stdout",
     "output_type": "stream",
     "text": [
      "\u001b[1m3/3\u001b[0m \u001b[32m━━━━━━━━━━━━━━━━━━━━\u001b[0m\u001b[37m\u001b[0m \u001b[1m1s\u001b[0m 320ms/step\n"
     ]
    }
   ],
   "source": [
    "# Calculate confusion matrix and metrics\n",
    "y_true = test_generator.classes\n",
    "y_pred_probs = model.predict(test_generator)\n",
    "y_pred = (y_pred_probs > 0.5).astype(int).flatten()"
   ]
  },
  {
   "cell_type": "code",
   "execution_count": 22,
   "id": "a1fe8b84",
   "metadata": {},
   "outputs": [
    {
     "name": "stdout",
     "output_type": "stream",
     "text": [
      "\n",
      "Class labels: ['defective', 'non_defective']\n"
     ]
    }
   ],
   "source": [
    "# Get the class labels from the generator\n",
    "class_labels = list(test_generator.class_indices.keys())\n",
    "print(f\"\\nClass labels: {class_labels}\")"
   ]
  },
  {
   "cell_type": "code",
   "execution_count": 23,
   "id": "79a72408",
   "metadata": {},
   "outputs": [
    {
     "name": "stdout",
     "output_type": "stream",
     "text": [
      "\n",
      "Confusion Matrix:\n",
      "[[72  0]\n",
      " [ 1  0]]\n"
     ]
    }
   ],
   "source": [
    "# Create confusion matrix\n",
    "cm = confusion_matrix(y_true, y_pred)\n",
    "print(\"\\nConfusion Matrix:\")\n",
    "print(cm)"
   ]
  },
  {
   "cell_type": "code",
   "execution_count": 24,
   "id": "b9b1c1a7",
   "metadata": {},
   "outputs": [
    {
     "name": "stdout",
     "output_type": "stream",
     "text": [
      "\n",
      "Classification Report:\n",
      "               precision    recall  f1-score   support\n",
      "\n",
      "    defective       0.99      1.00      0.99        72\n",
      "non_defective       0.00      0.00      0.00         1\n",
      "\n",
      "     accuracy                           0.99        73\n",
      "    macro avg       0.49      0.50      0.50        73\n",
      " weighted avg       0.97      0.99      0.98        73\n",
      "\n"
     ]
    },
    {
     "name": "stderr",
     "output_type": "stream",
     "text": [
      "/opt/anaconda3/lib/python3.12/site-packages/sklearn/metrics/_classification.py:1531: UndefinedMetricWarning: Precision is ill-defined and being set to 0.0 in labels with no predicted samples. Use `zero_division` parameter to control this behavior.\n",
      "  _warn_prf(average, modifier, f\"{metric.capitalize()} is\", len(result))\n",
      "/opt/anaconda3/lib/python3.12/site-packages/sklearn/metrics/_classification.py:1531: UndefinedMetricWarning: Precision is ill-defined and being set to 0.0 in labels with no predicted samples. Use `zero_division` parameter to control this behavior.\n",
      "  _warn_prf(average, modifier, f\"{metric.capitalize()} is\", len(result))\n",
      "/opt/anaconda3/lib/python3.12/site-packages/sklearn/metrics/_classification.py:1531: UndefinedMetricWarning: Precision is ill-defined and being set to 0.0 in labels with no predicted samples. Use `zero_division` parameter to control this behavior.\n",
      "  _warn_prf(average, modifier, f\"{metric.capitalize()} is\", len(result))\n"
     ]
    }
   ],
   "source": [
    "# Generate classification report with the correct labels\n",
    "try:\n",
    "    report = classification_report(y_true, y_pred, target_names=class_labels)\n",
    "    print(\"\\nClassification Report:\")\n",
    "    print(report)\n",
    "except ValueError as e:\n",
    "    print(f\"\\nCould not generate classification report: {e}\")\n",
    "    print(\"\\nSimplified Classification Report:\")\n",
    "    print(f\"Accuracy: {np.mean(y_true == y_pred):.4f}\")"
   ]
  },
  {
   "cell_type": "code",
   "execution_count": 25,
   "id": "351bed55",
   "metadata": {},
   "outputs": [
    {
     "data": {
      "image/png": "[encoded data removed]",
      "text/plain": [
       "<Figure size 1000x600 with 2 Axes>"
      ]
     },
     "metadata": {},
     "output_type": "display_data"
    }
   ],
   "source": [
    "# Plot confusion matrix\n",
    "plt.figure(figsize=(10, 6))\n",
    "plt.imshow(cm, interpolation='nearest', cmap=plt.cm.Blues)\n",
    "plt.title('Confusion Matrix')\n",
    "plt.colorbar()\n",
    "\n",
    "# Use actual class labels from the generator\n",
    "tick_marks = np.arange(len(class_labels))\n",
    "plt.xticks(tick_marks, class_labels, rotation=45)\n",
    "plt.yticks(tick_marks, class_labels)\n",
    "\n",
    "# Add text annotations to the confusion matrix\n",
    "thresh = cm.max() / 2\n",
    "for i in range(cm.shape[0]):\n",
    "    for j in range(cm.shape[1]):\n",
    "        plt.text(j, i, format(cm[i, j], 'd'),\n",
    "                 horizontalalignment=\"center\",\n",
    "                 color=\"white\" if cm[i, j] > thresh else \"black\")\n",
    "\n",
    "plt.tight_layout()\n",
    "plt.ylabel('True label')\n",
    "plt.xlabel('Predicted label')\n",
    "plt.show()"
   ]
  },
  {
   "cell_type": "code",
   "execution_count": 28,
   "id": "38995d18",
   "metadata": {},
   "outputs": [
    {
     "name": "stdout",
     "output_type": "stream",
     "text": [
      "Model saved as 'metal_defect_classifier_model.keras'\n"
     ]
    }
   ],
   "source": [
    "# Save the model\n",
    "model.save('metal_defect_classifier_model.keras')\n",
    "print(\"Model saved as 'metal_defect_classifier_model.keras'\")"
   ]
  },
  {
   "cell_type": "markdown",
   "id": "5a9ab99e",
   "metadata": {},
   "source": [
    "Conclusion: The results show a promising system to identify defective products, however, the lack of non-defective products reduces the model credibility since it cannot test this part of the model. "
   ]
  }
 ],
 "metadata": {
  "kernelspec": {
   "display_name": "base",
   "language": "python",
   "name": "python3"
  },
  "language_info": {
   "codemirror_mode": {
    "name": "ipython",
    "version": 3
   },
   "file_extension": ".py",
   "mimetype": "text/x-python",
   "name": "python",
   "nbconvert_exporter": "python",
   "pygments_lexer": "ipython3",
   "version": "3.12.7"
  }
 },
 "nbformat": 4,
 "nbformat_minor": 5
}
